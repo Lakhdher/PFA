{
 "cells": [
  {
   "cell_type": "code",
   "execution_count": 1,
   "metadata": {},
   "outputs": [],
   "source": [
    "from langchain_community.document_loaders import PyPDFLoader\n",
    "from langchain_text_splitters import RecursiveCharacterTextSplitter\n",
    "from langchain.docstore.document import Document\n",
    "from langchain_community.embeddings import OllamaEmbeddings\n",
    "from langchain.vectorstores.faiss import FAISS\n",
    "from langchain_community.embeddings import HuggingFaceHubEmbeddings\n",
    "from langchain import hub\n",
    "from langchain.vectorstores import Chroma\n",
    "from langchain_pinecone import PineconeVectorStore\n",
    "from langchain_community.embeddings import HuggingFaceEmbeddings\n",
    "import pickle\n",
    "from langchain import hub\n"
   ]
  },
  {
   "cell_type": "markdown",
   "metadata": {},
   "source": [
    "# Document loader"
   ]
  },
  {
   "cell_type": "code",
   "execution_count": 2,
   "metadata": {},
   "outputs": [],
   "source": [
    "import glob\n",
    "\n",
    "pdf_files = glob.glob(\"src/*.pdf\")\n",
    "pages = []\n",
    "\n",
    "for pdf_file in pdf_files:\n",
    "    pages.extend(PyPDFLoader(pdf_file).load_and_split())\n",
    "\n",
    "for page in pages:\n",
    "    page.page_content = page.page_content.replace(\"Imprimerie Officielle de la République Tunisienne\", \"\")\n"
   ]
  },
  {
   "cell_type": "markdown",
   "metadata": {},
   "source": [
    "# Splitter\n"
   ]
  },
  {
   "cell_type": "code",
   "execution_count": 5,
   "metadata": {},
   "outputs": [
    {
     "data": {
      "text/plain": [
       "28127"
      ]
     },
     "execution_count": 5,
     "metadata": {},
     "output_type": "execute_result"
    }
   ],
   "source": [
    "doc_chunks = []\n",
    "text_splitter = RecursiveCharacterTextSplitter(\n",
    "    chunk_size=500,\n",
    "    separators=[\"\\nArticle\", \"\\n\\n\", \"\\n\", \".\", \"!\", \"?\", \",\", \" \", \"\"],\n",
    "    chunk_overlap=50,\n",
    ")\n",
    "chunks = text_splitter.split_documents(pages)\n",
    "len(chunks)\n"
   ]
  },
  {
   "cell_type": "markdown",
   "metadata": {},
   "source": [
    "# Vectorstores\n",
    "## for now BAAI/bge-m3 is the best embedder"
   ]
  },
  {
   "cell_type": "markdown",
   "metadata": {},
   "source": [
    "#### In the cloud (pinecone)"
   ]
  },
  {
   "cell_type": "code",
   "execution_count": null,
   "metadata": {},
   "outputs": [],
   "source": [
    "import os\n",
    "os.environ[\"PINECONE_API_KEY\"] = \"9721efa4-ff98-4bc5-9b28-93919d1657a5\"\n",
    "# embedder = HuggingFaceEmbeddings(\n",
    "#     model_name = 'dangvantuan/sentence-camembert-large'\n",
    "# )\n",
    "\n",
    "index_name = \"pfa\"\n",
    "\n",
    "#docsearch = PineconeVectorStore.from_documents(chunks, embedder, index_name=index_name)\n",
    "#docsearch = PineconeVectorStore(index_name=index_name,embedding=embedder)"
   ]
  },
  {
   "cell_type": "markdown",
   "metadata": {},
   "source": [
    "#### Locally (chroma)"
   ]
  },
  {
   "cell_type": "code",
   "execution_count": 19,
   "metadata": {},
   "outputs": [
    {
     "name": "stdout",
     "output_type": "stream",
     "text": [
      "28127\n"
     ]
    }
   ],
   "source": [
    "\n",
    "embedder = HuggingFaceEmbeddings(\n",
    "    model_name = \"BAAI/bge-m3\"\n",
    ")\n",
    "persist_directory = 'docs/chroma_bge/'\n",
    "#vectordb.delete_collection()\n",
    "# vectordb = Chroma.from_documents(\n",
    "#     documents=chunks,\n",
    "#     embedding=embedder,\n",
    "#     persist_directory=persist_directory\n",
    "# ) \n",
    "# vectordb.persist()\n",
    "vectordb = Chroma(persist_directory=\"docs/chroma_bge/\",embedding_function=embedder)\n",
    "print(vectordb._collection.count())"
   ]
  },
  {
   "cell_type": "markdown",
   "metadata": {},
   "source": [
    "# Retrieval\n",
    "### 3 methodes"
   ]
  },
  {
   "cell_type": "code",
   "execution_count": 50,
   "metadata": {},
   "outputs": [
    {
     "name": "stdout",
     "output_type": "stream",
     "text": [
      "1. Article 387.- Sont passibles d'un emprisonnement de trois mois à \n",
      "un an et d'une amende comprise entre deux et trois fois la valeur des \n",
      "marchandises de fraude, de la confiscation des marchandises de \n",
      "fraude, des moyens de transport et des objets ayant  servi à masquer la \n",
      "fraude, les auteurs de délits de contrebande par une réunion de trois \n",
      "individus et plus jusqu'à six inclusiveme nt, que tous portent ou non \n",
      "des marchandises de fraude. \n",
      "C- Délits de troisième classe \n",
      "\n",
      "\n",
      "2. verser une rançon , exécuter un ordre ou une condition, en ayant recours à \n",
      "la fraude , à la violence ou à la menace de violence , ou en utilisant une arme, en portant un faux uniforme, une fausse identité, un faux ordre de \n",
      "l’autorité publiqu e ou s’il en résulte un préjudic e corporel ou un e maladie.  \n",
      "La peine encourue est la peine de mort et une amende de deux cent \n",
      "mille dinars, s’il en résulte la mort. \n",
      "\n",
      "\n",
      "3. peine est porté à cinq ans de prison. \n",
      "\n",
      "\n",
      "4. écriture, pour vol, pour abus de confiance, pour escroquerie pour \n",
      "\n",
      "\n"
     ]
    }
   ],
   "source": [
    "\n",
    "query=\"quels sont les punitions de fraude?\"\n",
    "\n",
    "#méthode 1 avec retriever\n",
    "# retriever = vectordb.as_retriever(search_type=\"mmr\")\n",
    "# matched_docs = retriever.get_relevant_documents(query)\n",
    "# for i, d in enumerate(matched_docs):\n",
    "#     print(f\"\\n## Document {i}\\n\")\n",
    "#     print(d.page_content)\n",
    "\n",
    "#méthode 2 avec mmr\n",
    "found_docs = vectordb.max_marginal_relevance_search(query, k=4, fetch_k=100)\n",
    "for i, doc in enumerate(found_docs):\n",
    "    print(f\"{i + 1}.\", doc.page_content, \"\\n\\n\")\n",
    "\n",
    "#méthode 3 avec similarity search\n",
    "# sim_docs = vectordb.similarity_search_with_score(query, k=5)  \n",
    "# for result in sim_docs:\n",
    "#     print(\"\\n\")\n",
    "#     print(result[1])\n",
    "#     print(result[0].page_content)\n",
    "    "
   ]
  },
  {
   "cell_type": "markdown",
   "metadata": {},
   "source": [
    "# Prompt Engineering and generation"
   ]
  },
  {
   "cell_type": "code",
   "execution_count": 51,
   "metadata": {},
   "outputs": [
    {
     "name": "stdout",
     "output_type": "stream",
     "text": [
      "text=\" Tu es un assistant juridique spécialisé dans la loi en Tunisie. Ta mission est de répondre aux questions des gens sur différents aspects juridiques ,en te limitant aux informations générales et en évitant les cas sensibles ou extrêmes. Si une question dépasse ton champ d'expertise ou si elle concerne un sujet délicat, tu dois informer l'utilisateur que tu ne peux pas fournir d'aide spécifique dans ce cas.Utilise les pièces suivantes du contexte pour répondre. Utilise un langage simple et accessible pour garantir que tout le monde puisse comprendre tes réponses. Gardez votre réponse brève et efficace maximum 3 phrase.\\n Question: quels sont les punitions de fraude?.\\nContexte: Article 387.- Sont passibles d'un emprisonnement de trois mois à \\nun an et d'une amende comprise entre deux et trois fois la valeur des \\nmarchandises de fraude, de la confiscation des marchandises de \\nfraude, des moyens de transport et des objets ayant  servi à masquer la \\nfraude, les auteurs de délits de contrebande par une réunion de trois \\nindividus et plus jusqu'à six inclusiveme nt, que tous portent ou non \\ndes marchandises de fraude. \\nC- Délits de troisième classe\\n\\nverser une rançon , exécuter un ordre ou une condition, en ayant recours à \\nla fraude , à la violence ou à la menace de violence , ou en utilisant une arme, en portant un faux uniforme, une fausse identité, un faux ordre de \\nl’autorité publiqu e ou s’il en résulte un préjudic e corporel ou un e maladie.  \\nLa peine encourue est la peine de mort et une amende de deux cent \\nmille dinars, s’il en résulte la mort.\\n\\npeine est porté à cinq ans de prison.\\n\\nécriture, pour vol, pour abus de confiance, pour escroquerie pour.\\nRéponse:\\n\"\n"
     ]
    }
   ],
   "source": [
    "def format_docs(docs):\n",
    "    return \"\\n\\n\".join(doc.page_content for doc in docs)\n",
    "\n",
    "prompt = hub.pull(\"mehdixlabetix/rag-law-fr\")\n",
    "prompt = prompt.invoke({\"context\":format_docs(found_docs), \"question\":query})\n",
    "print(prompt)"
   ]
  },
  {
   "cell_type": "code",
   "execution_count": 52,
   "metadata": {},
   "outputs": [
    {
     "data": {
      "text/plain": [
       "\"According to Article 387 of the Tunisian Penal Code, fraud can lead to penalties such as imprisonment for three months to one year and a fine equal to two to three times the value of the fraudulent goods. Additionally, the court may confiscate the goods, means of transportation, and objects used to commit the fraud, as well as impose a sentence of rançon, execution of an order or condition, or use of violence or threat of violence, resulting in corporal or moral harm. The punishment can also be death, with an fine of two hundred thousand dinars. If the fraud results in a person's death, the punishment is increased to five years in prison.\""
      ]
     },
     "execution_count": 52,
     "metadata": {},
     "output_type": "execute_result"
    }
   ],
   "source": [
    "from langchain_community.llms import Ollama\n",
    "\n",
    "llm = Ollama(model=\"llama2\")\n",
    "\n",
    "llm.invoke(prompt)"
   ]
  }
 ],
 "metadata": {
  "kernelspec": {
   "display_name": "Python 3",
   "language": "python",
   "name": "python3"
  },
  "language_info": {
   "codemirror_mode": {
    "name": "ipython",
    "version": 3
   },
   "file_extension": ".py",
   "mimetype": "text/x-python",
   "name": "python",
   "nbconvert_exporter": "python",
   "pygments_lexer": "ipython3",
   "version": "3.12.0"
  }
 },
 "nbformat": 4,
 "nbformat_minor": 2
}
