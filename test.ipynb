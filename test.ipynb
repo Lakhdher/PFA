{
 "cells": [
  {
   "cell_type": "code",
   "execution_count": 31,
   "metadata": {},
   "outputs": [],
   "source": [
    "from langchain_community.document_loaders import PyPDFLoader\n",
    "from langchain_text_splitters import RecursiveCharacterTextSplitter\n",
    "from langchain.docstore.document import Document\n",
    "from langchain_community.embeddings import OllamaEmbeddings\n",
    "from langchain.vectorstores.faiss import FAISS\n",
    "from langchain_community.embeddings import HuggingFaceHubEmbeddings\n",
    "from langchain import hub\n",
    "from langchain.vectorstores import Chroma\n",
    "from langchain_pinecone import PineconeVectorStore\n",
    "from langchain_community.embeddings import HuggingFaceEmbeddings\n",
    "import pickle\n",
    "from langchain import hub\n",
    "prompt = hub.pull(\"mehdixlabetix/rag-law-fr\")\n",
    "\n"
   ]
  },
  {
   "cell_type": "markdown",
   "metadata": {},
   "source": [
    "# Document loader"
   ]
  },
  {
   "cell_type": "code",
   "execution_count": 2,
   "metadata": {},
   "outputs": [],
   "source": [
    "import glob\n",
    "\n",
    "pdf_files = glob.glob(\"src/*.pdf\")\n",
    "pages = []\n",
    "\n",
    "for pdf_file in pdf_files:\n",
    "    pages.extend(PyPDFLoader(pdf_file).load_and_split())\n",
    "\n",
    "for page in pages:\n",
    "    page.page_content = page.page_content.replace(\"Imprimerie Officielle de la République Tunisienne\", \"\")\n"
   ]
  },
  {
   "cell_type": "markdown",
   "metadata": {},
   "source": [
    "# Splitter\n"
   ]
  },
  {
   "cell_type": "code",
   "execution_count": 5,
   "metadata": {},
   "outputs": [
    {
     "data": {
      "text/plain": [
       "28127"
      ]
     },
     "execution_count": 5,
     "metadata": {},
     "output_type": "execute_result"
    }
   ],
   "source": [
    "doc_chunks = []\n",
    "text_splitter = RecursiveCharacterTextSplitter(\n",
    "    chunk_size=500,\n",
    "    separators=[\"\\nArticle\", \"\\n\\n\", \"\\n\", \".\", \"!\", \"?\", \",\", \" \", \"\"],\n",
    "    chunk_overlap=50,\n",
    ")\n",
    "chunks = text_splitter.split_documents(pages)\n",
    "len(chunks)\n"
   ]
  },
  {
   "cell_type": "markdown",
   "metadata": {},
   "source": [
    "# Vectorstores\n",
    "## for now BAAI/bge-m3 is the best embedder"
   ]
  },
  {
   "cell_type": "markdown",
   "metadata": {},
   "source": [
    "#### In the cloud (pinecone)"
   ]
  },
  {
   "cell_type": "code",
   "execution_count": null,
   "metadata": {},
   "outputs": [],
   "source": [
    "import os\n",
    "os.environ[\"PINECONE_API_KEY\"] = \"9721efa4-ff98-4bc5-9b28-93919d1657a5\"\n",
    "# embedder = HuggingFaceEmbeddings(\n",
    "#     model_name = 'dangvantuan/sentence-camembert-large'\n",
    "# )\n",
    "\n",
    "index_name = \"pfa\"\n",
    "\n",
    "#docsearch = PineconeVectorStore.from_documents(chunks, embedder, index_name=index_name)\n",
    "#docsearch = PineconeVectorStore(index_name=index_name,embedding=embedder)"
   ]
  },
  {
   "cell_type": "markdown",
   "metadata": {},
   "source": [
    "#### Locally (chroma)"
   ]
  },
  {
   "cell_type": "code",
   "execution_count": 2,
   "metadata": {},
   "outputs": [
    {
     "name": "stdout",
     "output_type": "stream",
     "text": [
      "28127\n"
     ]
    }
   ],
   "source": [
    "\n",
    "embedder = HuggingFaceEmbeddings(\n",
    "    model_name = \"BAAI/bge-m3\"\n",
    ")\n",
    "persist_directory = 'docs/chroma_bge/'\n",
    "#vectordb.delete_collection()\n",
    "# vectordb = Chroma.from_documents(\n",
    "#     documents=chunks,\n",
    "#     embedding=embedder,\n",
    "#     persist_directory=persist_directory\n",
    "# ) \n",
    "# vectordb.persist()\n",
    "vectordb = Chroma(persist_directory=\"docs/chroma_bge/\",embedding_function=embedder)\n",
    "print(vectordb._collection.count())"
   ]
  },
  {
   "cell_type": "markdown",
   "metadata": {},
   "source": [
    "# Retrieval\n",
    "### 3 methodes"
   ]
  },
  {
   "cell_type": "code",
   "execution_count": 29,
   "metadata": {},
   "outputs": [
    {
     "name": "stdout",
     "output_type": "stream",
     "text": [
      "1. puni de mort. Si c'est un civil, la peine est réduite de moitié et la peine de mort est ramenée à celle de quinze ans d'emprisonnement. \n",
      "\n",
      "\n",
      "2. Article 201.- Est puni de mort, quiconque aura, par quelque \n",
      "moyen que ce soit, commis volontairement et avec préméditation un \n",
      "homicide.  \n",
      "Article 202.- La préméditation consiste dans le dessein, formé \n",
      "avant l'action, d'attentat à la personne d'autrui. \n",
      "Article 203.- Est puni de mort, l’auteur de parricide.  \n",
      "Est qualifié parricide, le meurtre des ascendants quel qu’en soit le \n",
      "degré. \n",
      "\n",
      "\n",
      "3. Article 211 (Modifié par la loi n° 89-23 du 27 février 1989).- Est \n",
      "puni de deux ans de prison, le meurtre commis par la mère sur son enfant à sa naissance ou immédiatement après. \n",
      "\n",
      "\n",
      "4. peines plus sévères prévues par d'autres textes. \n",
      "\n",
      "\n"
     ]
    }
   ],
   "source": [
    "\n",
    "query=\"quelle est la punition du meurtre?\"\n",
    "\n",
    "#méthode 1 avec retriever\n",
    "# retriever = vectordb.as_retriever(search_type=\"mmr\")\n",
    "# matched_docs = retriever.get_relevant_documents(query)\n",
    "# for i, d in enumerate(matched_docs):\n",
    "#     print(f\"\\n## Document {i}\\n\")\n",
    "#     print(d.page_content)\n",
    "\n",
    "#méthode 2 avec mmr\n",
    "found_docs = vectordb.max_marginal_relevance_search(query, k=4, fetch_k=100)\n",
    "for i, doc in enumerate(found_docs):\n",
    "    print(f\"{i + 1}.\", doc.page_content, \"\\n\\n\")\n",
    "\n",
    "#méthode 3 avec similarity search\n",
    "# sim_docs = vectordb.similarity_search_with_score(query, k=5)  \n",
    "# for result in sim_docs:\n",
    "#     print(\"\\n\")\n",
    "#     print(result[1])\n",
    "#     print(result[0].page_content)\n",
    "    "
   ]
  },
  {
   "cell_type": "markdown",
   "metadata": {},
   "source": [
    "# Prompt Engineering and generation"
   ]
  },
  {
   "cell_type": "code",
   "execution_count": 32,
   "metadata": {},
   "outputs": [
    {
     "name": "stdout",
     "output_type": "stream",
     "text": [
      "messages=[HumanMessage(content=\" Tu es un assistant juridique spécialisé dans la loi en Tunisie. Ta mission est de répondre aux questions des gens sur différents aspects juridiques ,en te limitant aux informations générales et en évitant les cas sensibles ou extrêmes. Si une question dépasse ton champ d'expertise ou si elle concerne un sujet délicat, tu dois informer l'utilisateur que tu ne peux pas fournir d'aide spécifique dans ce cas. Utilise les pièces suivantes du contexte pour répondre. Utilise un langage simple et accessible pour garantir que tout le monde puisse comprendre tes réponses. Gardez votre réponse brève et efficace maximum quatre ou cinq phrases.\\xa0Tu dois répondre en français.\\n Question: quelle est la punition du meurtre?.\\nContexte: puni de mort. Si c'est un civil, la peine est réduite de moitié et la peine de mort est ramenée à celle de quinze ans d'emprisonnement.\\n\\nArticle 201.- Est puni de mort, quiconque aura, par quelque \\nmoyen que ce soit, commis volontairement et avec préméditation un \\nhomicide.  \\nArticle 202.- La préméditation consiste dans le dessein, formé \\navant l'action, d'attentat à la personne d'autrui. \\nArticle 203.- Est puni de mort, l’auteur de parricide.  \\nEst qualifié parricide, le meurtre des ascendants quel qu’en soit le \\ndegré.\\n\\nArticle 211 (Modifié par la loi n° 89-23 du 27 février 1989).- Est \\npuni de deux ans de prison, le meurtre commis par la mère sur son enfant à sa naissance ou immédiatement après.\\n\\npeines plus sévères prévues par d'autres textes..\\nRéponse:\\n\")]\n"
     ]
    }
   ],
   "source": [
    "def format_docs(docs):\n",
    "    return \"\\n\\n\".join(doc.page_content for doc in docs)\n",
    "\n",
    "final_prompt = prompt.invoke({\"context\":format_docs(found_docs), \"question\":query})\n",
    "\n",
    "print(final_prompt)"
   ]
  },
  {
   "cell_type": "code",
   "execution_count": 33,
   "metadata": {},
   "outputs": [
    {
     "data": {
      "text/plain": [
       "\" Selon la loi en Tunisie, le meurtre est puni de mort (Article 201). Cependant, si c'est un civile, la peine peut être réduite à quinze ans d'emprisonnement (Article 201, context provided).\""
      ]
     },
     "execution_count": 33,
     "metadata": {},
     "output_type": "execute_result"
    }
   ],
   "source": [
    "from langchain_community.llms import Ollama\n",
    "\n",
    "llm = Ollama(model=\"mistral\")\n",
    "\n",
    "llm.invoke(final_prompt)"
   ]
  }
 ],
 "metadata": {
  "kernelspec": {
   "display_name": "Python 3",
   "language": "python",
   "name": "python3"
  },
  "language_info": {
   "codemirror_mode": {
    "name": "ipython",
    "version": 3
   },
   "file_extension": ".py",
   "mimetype": "text/x-python",
   "name": "python",
   "nbconvert_exporter": "python",
   "pygments_lexer": "ipython3",
   "version": "3.12.0"
  }
 },
 "nbformat": 4,
 "nbformat_minor": 2
}
