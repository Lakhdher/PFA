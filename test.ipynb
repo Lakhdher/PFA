{
 "cells": [
  {
   "cell_type": "code",
   "execution_count": 2,
   "metadata": {},
   "outputs": [],
   "source": [
    "from langchain_community.document_loaders import PyPDFLoader\n",
    "from langchain_text_splitters import RecursiveCharacterTextSplitter\n",
    "from langchain.docstore.document import Document\n",
    "from langchain_community.embeddings import OllamaEmbeddings\n",
    "from langchain.vectorstores.faiss import FAISS\n",
    "from langchain_community.embeddings import HuggingFaceHubEmbeddings\n",
    "from langchain import hub\n",
    "from langchain.vectorstores import Chroma\n",
    "import pickle"
   ]
  },
  {
   "cell_type": "markdown",
   "metadata": {},
   "source": [
    "Document loader"
   ]
  },
  {
   "cell_type": "code",
   "execution_count": 3,
   "metadata": {},
   "outputs": [
    {
     "data": {
      "text/plain": [
       "19"
      ]
     },
     "execution_count": 3,
     "metadata": {},
     "output_type": "execute_result"
    }
   ],
   "source": [
    "pages = PyPDFLoader(\"src/Constitution_de_la_republique_tunisiennefr.pdf\").load_and_split()\n",
    "len(pages)"
   ]
  },
  {
   "cell_type": "markdown",
   "metadata": {},
   "source": [
    "Splitter\n"
   ]
  },
  {
   "cell_type": "code",
   "execution_count": 41,
   "metadata": {},
   "outputs": [
    {
     "data": {
      "text/plain": [
       "142"
      ]
     },
     "execution_count": 41,
     "metadata": {},
     "output_type": "execute_result"
    }
   ],
   "source": [
    "doc_chunks = []\n",
    "text_splitter = RecursiveCharacterTextSplitter(\n",
    "    chunk_size=500,\n",
    "    separators=[\"\\nArticle\", \"\\n\\n\", \"\\n\", \".\", \"!\", \"?\", \",\", \" \", \"\"],\n",
    "    chunk_overlap=50,\n",
    ")\n",
    "chunks = text_splitter.split_documents(pages)\n",
    "# for i, chunk in enumerate(chunks):\n",
    "#     doc = Document(\n",
    "#         page_content=chunk, metadata={\"page\": doc.metadata[\"page\"], \"chunk\": i}\n",
    "#     )\n",
    "#     doc.metadata[\"source\"] = f\"{doc.metadata['page']}-{doc.metadata['chunk']}\"\n",
    "#     doc.metadata[\"filename\"] = \"Constitution_de_la_republique_tunisienne\" \n",
    "#     doc_chunks.append(doc)\n",
    "len(chunks)"
   ]
  },
  {
   "cell_type": "markdown",
   "metadata": {},
   "source": [
    "Vectorstores"
   ]
  },
  {
   "cell_type": "code",
   "execution_count": 4,
   "metadata": {},
   "outputs": [],
   "source": [
    "# model =  SentenceTransformer(\"dangvantuan/sentence-camembert-large\")\n",
    "\n",
    "# sentences = [\"Un avion est en train de décoller.\",\n",
    "#           \"Un homme joue d'une grande flûte.\",\n",
    "#           \"Un homme étale du fromage râpé sur une pizza.\",\n",
    "#           \"Une personne jette un chat au plafond.\",\n",
    "#           \"Une personne est en train de plier un morceau de papier.\",\n",
    "#           ]\n",
    "\n",
    "# embeddings = model.encode(sentences)"
   ]
  },
  {
   "cell_type": "code",
   "execution_count": 42,
   "metadata": {},
   "outputs": [],
   "source": [
    "# embeddings = HuggingFaceEmbeddings(model_name=\"sentence-transformers/dangvantuan/sentence-camembert-large\")\n",
    "\n",
    "from langchain_pinecone import PineconeVectorStore\n",
    "from langchain_community.embeddings import HuggingFaceEmbeddings\n",
    "# import os\n",
    "\n",
    "# os.environ[\"PINECONE_API_KEY\"] = \"key lenna\"\n",
    "embedder = HuggingFaceEmbeddings(\n",
    "    model_name = \"EIStakovskii/LaBSE-fr-de\"\n",
    ")\n",
    "\n",
    "index_name = \"pfa\"\n",
    "\n",
    "docsearch = PineconeVectorStore.from_documents(chunks, embedder, index_name=index_name)"
   ]
  },
  {
   "cell_type": "code",
   "execution_count": 18,
   "metadata": {},
   "outputs": [
    {
     "name": "stdout",
     "output_type": "stream",
     "text": [
      "42\n"
     ]
    }
   ],
   "source": [
    "# from langchain.embeddings.sentence_transformer import SentenceTransformerEmbeddings\n",
    "\n",
    "# model = SentenceTransformerEmbeddings(model_name=\"cointegrated/rubert-tiny2\")\n",
    "# from langchain.embeddings.sentence_transformer import SentenceTransformerEmbeddings\n",
    "# model =  SentenceTransformerEmbeddings(model_name=\"dangvantuan/sentence-camembert-large\")\n",
    "from langchain_community.embeddings import HuggingFaceEmbeddings\n",
    "\n",
    "embedder = HuggingFaceEmbeddings(\n",
    "    model_name = \"cointegrated/rubert-tiny2\"\n",
    ")\n",
    "\n",
    "persist_directory = 'docs/chroma/'\n",
    "\n",
    "vectordb = Chroma.from_documents(\n",
    "    documents=chunks,\n",
    "    embedding=embedder,\n",
    "    persist_directory=persist_directory\n",
    ") \n",
    "\n",
    "vectordb.persist()\n",
    "#vectordb.delete_collection()\n",
    "print(vectordb._collection.count())"
   ]
  },
  {
   "cell_type": "code",
   "execution_count": null,
   "metadata": {},
   "outputs": [],
   "source": [
    "index.save_local(\"faiss_index\")\n",
    "# loaded_index = FAISS.load_local(\"faiss_index\", embeddings)"
   ]
  },
  {
   "cell_type": "markdown",
   "metadata": {},
   "source": [
    "# Retrieval\n",
    "## check retriever"
   ]
  },
  {
   "cell_type": "code",
   "execution_count": 57,
   "metadata": {},
   "outputs": [
    {
     "name": "stdout",
     "output_type": "stream",
     "text": [
      "1. Article 3 \n",
      "La souveraineté appartient au peuple Tu nisien qui l'exerce conformément à la \n",
      "constitution. \n",
      "Article 4 \n",
      "Le drapeau de la République Tunisie nne est rouge, il comporte, dans les \n",
      "conditions définies par la loi, en son milie u, un cercle blanc où figure une étoile à \n",
      "cinq branches entourée d'un croissant rouge. \n",
      "La devise de la République es t : Liberté, Ordre, Justice. \n",
      "\n",
      "\n",
      "2. \"Je jure par Dieu Tout-Puissant de servir  mon pays loyalement, de respecter la \n",
      "Constitution et l'allégeance exclusive envers la Tunisie\". \n",
      "\n",
      "\n"
     ]
    }
   ],
   "source": [
    "# retriever = index.as_retriever(search_kwargs={\"k\": 3})\n",
    "# retriever.invoke(\"quelle est la réligion de la tunisie?\")\n",
    "query=\"décrivez le drapeau de la tunisie?\"\n",
    "# retriever = docsearch.as_retriever(search_type=\"mmr\")\n",
    "# matched_docs = retriever.get_relevant_documents(query)\n",
    "# for i, d in enumerate(matched_docs):\n",
    "#     print(f\"\\n## Document {i}\\n\")\n",
    "#     print(d.page_content)\n",
    "found_docs = docsearch.max_marginal_relevance_search(query, k=2, fetch_k=10)\n",
    "for i, doc in enumerate(found_docs):\n",
    "    print(f\"{i + 1}.\", doc.page_content, \"\\n\\n\")\n",
    "# sim_docs = docsearch.similarity_search_with_score(query, k=3)  \n",
    "# for result in sim_docs:\n",
    "#     print(\"\\n\")\n",
    "#     print(result[1])\n",
    "#     print(result[0].page_content)"
   ]
  },
  {
   "cell_type": "code",
   "execution_count": 58,
   "metadata": {},
   "outputs": [],
   "source": [
    "def format_docs(docs):\n",
    "    return \"\\n\\n\".join(doc.page_content for doc in docs)\n",
    "\n",
    "\n",
    "\n",
    "new_query= \"contexte : \"+ format_docs(found_docs)+ \"question : \"+ query +\"répondez en français\"\n",
    "\n"
   ]
  },
  {
   "cell_type": "code",
   "execution_count": 59,
   "metadata": {},
   "outputs": [
    {
     "data": {
      "text/plain": [
       "\" Le drapeau de la Tunisie est rouge et comporte, dans les conditions définies par la loi, un cercle blanc où figure une étoile à cinq branches entourée d'un croissant rouge.\""
      ]
     },
     "execution_count": 59,
     "metadata": {},
     "output_type": "execute_result"
    }
   ],
   "source": [
    "from langchain_community.llms import Ollama\n",
    "\n",
    "llm = Ollama(model=\"llama2\")\n",
    "\n",
    "llm.invoke(new_query)"
   ]
  },
  {
   "cell_type": "code",
   "execution_count": null,
   "metadata": {},
   "outputs": [
    {
     "name": "stdout",
     "output_type": "stream",
     "text": [
      "S\n",
      "ure\n",
      "!\n",
      " Here\n",
      "'\n",
      "s\n",
      " one\n",
      ":\n",
      "\n",
      "\n",
      "\n",
      "\n",
      "Why\n",
      " don\n",
      "'\n",
      "t\n",
      " scient\n",
      "ists\n",
      " trust\n",
      " atoms\n",
      "?\n",
      "\n",
      "\n",
      "B\n",
      "ecause\n",
      " they\n",
      " make\n",
      " up\n",
      " everything\n",
      "!\n",
      "\n",
      "\n",
      "\n",
      "\n",
      "I\n",
      " hope\n",
      " that\n",
      " brought\n",
      " a\n",
      " smile\n",
      " to\n",
      " your\n",
      " face\n",
      "!\n",
      " Do\n",
      " you\n",
      " have\n",
      " any\n",
      " specific\n",
      " topic\n",
      " or\n",
      " theme\n",
      " in\n",
      " mind\n",
      " for\n",
      " a\n",
      " jo\n",
      "ke\n",
      ",\n",
      " and\n",
      " I\n",
      " can\n",
      " try\n",
      " to\n",
      " come\n",
      " up\n",
      " with\n",
      " something\n",
      " tail\n",
      "ored\n",
      " to\n",
      " your\n",
      " prefer\n",
      "ences\n",
      "?\n",
      "\n"
     ]
    }
   ],
   "source": [
    "query = \"Tell me a joke\"\n",
    "\n",
    "for chunks in llm.stream(query):\n",
    "    print(chunks)"
   ]
  },
  {
   "cell_type": "code",
   "execution_count": null,
   "metadata": {},
   "outputs": [],
   "source": []
  }
 ],
 "metadata": {
  "kernelspec": {
   "display_name": "Python 3",
   "language": "python",
   "name": "python3"
  },
  "language_info": {
   "codemirror_mode": {
    "name": "ipython",
    "version": 3
   },
   "file_extension": ".py",
   "mimetype": "text/x-python",
   "name": "python",
   "nbconvert_exporter": "python",
   "pygments_lexer": "ipython3",
   "version": "3.12.0"
  }
 },
 "nbformat": 4,
 "nbformat_minor": 2
}
