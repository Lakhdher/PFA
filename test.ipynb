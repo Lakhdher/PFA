{
 "cells": [
  {
   "cell_type": "code",
   "execution_count": 2,
   "metadata": {},
   "outputs": [],
   "source": [
    "from langchain_community.document_loaders import PyPDFLoader\n",
    "from langchain_text_splitters import RecursiveCharacterTextSplitter\n",
    "from langchain.docstore.document import Document\n",
    "from langchain_community.embeddings import OllamaEmbeddings\n",
    "from langchain.vectorstores.faiss import FAISS\n",
    "from langchain_community.embeddings import HuggingFaceHubEmbeddings\n",
    "from langchain import hub\n",
    "from langchain.vectorstores import Chroma\n",
    "from langchain_pinecone import PineconeVectorStore\n",
    "from langchain_community.embeddings import HuggingFaceEmbeddings\n",
    "import pickle"
   ]
  },
  {
   "cell_type": "markdown",
   "metadata": {},
   "source": [
    "Document loader"
   ]
  },
  {
   "cell_type": "code",
   "execution_count": 71,
   "metadata": {},
   "outputs": [
    {
     "data": {
      "text/plain": [
       "Document(page_content=\"Imprimerie Officielle de la République Tunisienne51  Les personnes exerçant les métiers mentionnés à l’alinéa précédent du \\nprésent article sont tenues de s'assur er pour leur responsabilité civile, celle \\ndes personnes trava illant dans leur exploitation  et celle de toute personne \\nayant la garde ou la  conduite des véhicule s dans le cadre de  leurs activités. \\nArticle 111.- L'obligation d'assurance prévue à l'article 110 du \\nprésent code s'applique à tout véhicule terrestre à moteur ainsi qu'à ses \\nremorques à l'exception des véhicules appartenant à l'État et des \\nvéhicules circulant sur les voies ferrées. \\nArticle 112.- Les entreprises d'assurances agréées pour pratiquer \\nl’assurance de la responsabilité civile du fait de l'usage des véhicules terrestres à moteur sont tenues de fournir cette assurance aux \\npersonnes visées à l'article 110 du présent code. \\nLe silence gardé par l'entreprise d'assurance pendant plus de dix \\njours après  réception d'une demande de conclusion d'un contrat d'assurance est  considéré un refus implicite. \\nToute personne assujettie à l'obligation d'assurance, prévue à \\nl'article 110 du présent code, ayant sollicité la conclusion d’un nouveau contrat d’assurance ou  la prorogation d’un contrat en \\nvigueur ou  sa modification ou la reprise d'effet d'un contrat d'assurance suspendu, se voit opposer un refus, peut saisir le Bureau \\nCentral de Tarification rattaché à l'association professionnelle des \\nentreprises d'assurances par une lettre recommandée avec accusé de réception ou par tout autre moyen laissant une trace écrite. \\nDans ce cas, et sous réserve des dispositions de l'article 45 du \\nprésent code, le Bureau Central de Tarification fixe la prime ou la cotisation d'assurance moyennant laquelle l'entreprise d'assurance est \\ntenue de couvrir la responsabilité civile du fait de  l'usage du véhicule \\nterrestre à moteur. \\nLes règles de fonctionnement du bureau visé au troisième alinéa \\ndu présent article sont fixées par un arrêté du ministre des Finances. \\nArticle 113.- Toute entreprise d'assurance qui refuse l'assurance de \\nla responsabilité civile dont la prime a été fixée par le Bureau Central \\nde Tarification est passible de l'une des sanctions ou des mesures\", metadata={'source': 'src\\\\Assurance.pdf', 'page': 50})"
      ]
     },
     "execution_count": 71,
     "metadata": {},
     "output_type": "execute_result"
    }
   ],
   "source": [
    "import glob\n",
    "\n",
    "pdf_files = glob.glob(\"src/*.pdf\")\n",
    "pages = []\n",
    "\n",
    "for pdf_file in pdf_files:\n",
    "    pages.extend(PyPDFLoader(pdf_file).load_and_split())\n"
   ]
  },
  {
   "cell_type": "markdown",
   "metadata": {},
   "source": [
    "Splitter\n"
   ]
  },
  {
   "cell_type": "code",
   "execution_count": 72,
   "metadata": {},
   "outputs": [
    {
     "data": {
      "text/plain": [
       "29084"
      ]
     },
     "execution_count": 72,
     "metadata": {},
     "output_type": "execute_result"
    }
   ],
   "source": [
    "doc_chunks = []\n",
    "text_splitter = RecursiveCharacterTextSplitter(\n",
    "    chunk_size=500,\n",
    "    separators=[\"\\nArticle\", \"\\n\\n\", \"\\n\", \".\", \"!\", \"?\", \",\", \" \", \"\"],\n",
    "    chunk_overlap=50,\n",
    ")\n",
    "chunks = text_splitter.split_documents(pages)\n",
    "len(chunks)"
   ]
  },
  {
   "cell_type": "markdown",
   "metadata": {},
   "source": [
    "Vectorstores"
   ]
  },
  {
   "cell_type": "code",
   "execution_count": 73,
   "metadata": {},
   "outputs": [],
   "source": [
    "# import os\n",
    "# os.environ[\"PINECONE_API_KEY\"] = \"9721efa4-ff98-4bc5-9b28-93919d1657a5\"\n",
    "embedder = HuggingFaceEmbeddings(\n",
    "    model_name = \"EIStakovskii/LaBSE-fr-de\"\n",
    ")\n",
    "\n",
    "index_name = \"pfa\"\n",
    "\n",
    "docsearch = PineconeVectorStore.from_documents(chunks, embedder, index_name=index_name)"
   ]
  },
  {
   "cell_type": "markdown",
   "metadata": {},
   "source": [
    "# Retrieval\n",
    "## check retriever"
   ]
  },
  {
   "cell_type": "code",
   "execution_count": 60,
   "metadata": {},
   "outputs": [
    {
     "name": "stdout",
     "output_type": "stream",
     "text": [
      "1. par la Chambre des députés, et ce, jusqu' à ce qu'il soit possible de procéder aux \n",
      "élections. \n",
      "Le Président de la Répu blique est rééligible. \n",
      "\n",
      "\n",
      "2. Article 27 (Modifié par la loi constitu tionnelle n° 2002-51 du 1er juin 2002). \n",
      "Aucun membre de la Chambre des députés ou de la Chambre des conseillers ne \n",
      "peut, pendant la durée de son mandat, être poursuivi ou arrêté pour crime ou délit, \n",
      "tant que la Chambre concernée n'aura pas levé l'immunité qui le couvre. \n",
      "Toutefois, en cas de flagrant délit, il pe ut être procédé à son arrestation. La \n",
      "Chambre concernée en est informée sans délai. La détention est suspendue si la \n",
      "\n",
      "\n"
     ]
    }
   ],
   "source": [
    "\n",
    "query=\"est-ce que un membre de la Chambre des députés peut aller en prison?\"\n",
    "\n",
    "#méthode 1 avec retriever\n",
    "# retriever = docsearch.as_retriever(search_type=\"mmr\")\n",
    "# matched_docs = retriever.get_relevant_documents(query)\n",
    "# for i, d in enumerate(matched_docs):\n",
    "#     print(f\"\\n## Document {i}\\n\")\n",
    "#     print(d.page_content)\n",
    "\n",
    "#méthode 2 avec mmr\n",
    "found_docs = docsearch.max_marginal_relevance_search(query, k=2, fetch_k=10)\n",
    "for i, doc in enumerate(found_docs):\n",
    "    print(f\"{i + 1}.\", doc.page_content, \"\\n\\n\")\n",
    "\n",
    "#méthode 3 avec similarity search\n",
    "# sim_docs = docsearch.similarity_search_with_score(query, k=3)  \n",
    "# for result in sim_docs:\n",
    "#     print(\"\\n\")\n",
    "#     print(result[1])\n",
    "#     print(result[0].page_content)"
   ]
  },
  {
   "cell_type": "code",
   "execution_count": 65,
   "metadata": {},
   "outputs": [],
   "source": [
    "def format_docs(docs):\n",
    "    return \"\\n\\n\".join(doc.page_content for doc in docs)\n",
    "\n",
    "\n",
    "\n",
    "new_query= \"contexte :  \"+ format_docs(found_docs)+ \"question : \"+ query +\" on parle toujours en tunisie et répondez en français\"\n",
    "\n"
   ]
  },
  {
   "cell_type": "code",
   "execution_count": 66,
   "metadata": {},
   "outputs": [
    {
     "data": {
      "text/plain": [
       "'En Tunisie, les membres du Parlement (Chambre des Députés ou Chambre des Conseillers) sont protégés par l\\'immunité parlementaire pendant la durée de leur mandat. Ce means that they cannot be arrested or prosecuted for crimes or misdemeanors during this time, unless there is evidence of a \"flagrante delito\" (a serious crime committed in flagrante delicto).\\n\\nIn such cases, the member can be arrested and detained, but only temporarily until the Chamber concerned lifts their immunity. The Chamber must be informed without delay of any such arrest. If the question is asked whether a member of the Chamber of Deputies can go to prison, the answer is always \"no\" in Tunisia, as long as they are enjoying immunities during their term in office.'"
      ]
     },
     "execution_count": 66,
     "metadata": {},
     "output_type": "execute_result"
    }
   ],
   "source": [
    "from langchain_community.llms import Ollama\n",
    "\n",
    "llm = Ollama(model=\"llama2\")\n",
    "\n",
    "llm.invoke(new_query)"
   ]
  }
 ],
 "metadata": {
  "kernelspec": {
   "display_name": "Python 3",
   "language": "python",
   "name": "python3"
  },
  "language_info": {
   "codemirror_mode": {
    "name": "ipython",
    "version": 3
   },
   "file_extension": ".py",
   "mimetype": "text/x-python",
   "name": "python",
   "nbconvert_exporter": "python",
   "pygments_lexer": "ipython3",
   "version": "3.12.0"
  }
 },
 "nbformat": 4,
 "nbformat_minor": 2
}
