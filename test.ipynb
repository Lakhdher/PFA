{
 "cells": [
  {
   "cell_type": "code",
   "execution_count": 9,
   "metadata": {},
   "outputs": [],
   "source": [
    "from langchain_community.document_loaders import PyPDFLoader\n",
    "from langchain_text_splitters import RecursiveCharacterTextSplitter\n",
    "from langchain.docstore.document import Document\n",
    "from langchain_community.embeddings import OllamaEmbeddings\n",
    "from langchain.vectorstores.faiss import FAISS\n",
    "from langchain_community.embeddings import HuggingFaceHubEmbeddings\n",
    "from langchain import hub\n",
    "from langchain.vectorstores import Chroma\n",
    "from langchain_pinecone import PineconeVectorStore\n",
    "from langchain_community.embeddings import HuggingFaceEmbeddings\n",
    "import pickle\n",
    "from langchain_community.llms import Ollama\n",
    "from langchain.retrievers.multi_query import MultiQueryRetriever\n",
    "from langchain import hub\n",
    "import pathlib\n",
    "import textwrap\n",
    "import os\n",
    "import google.generativeai as genai\n",
    "from IPython.display import display\n",
    "from IPython.display import Markdown\n",
    "\n",
    "genai.configure(api_key=os.environ['GEMINI_API_KEY'])\n",
    "\n",
    "prompt = hub.pull(\"mehdixlabetix/rag-law-fr\")\n",
    "llm = Ollama(model=\"mistral\")\n"
   ]
  },
  {
   "cell_type": "markdown",
   "metadata": {},
   "source": [
    "# Document loader"
   ]
  },
  {
   "cell_type": "code",
   "execution_count": 2,
   "metadata": {},
   "outputs": [],
   "source": [
    "import glob\n",
    "\n",
    "pdf_files = glob.glob(\"src/*.pdf\")\n",
    "pages = []\n",
    "\n",
    "for pdf_file in pdf_files:\n",
    "    pages.extend(PyPDFLoader(pdf_file).load_and_split())\n",
    "\n",
    "for page in pages:\n",
    "    page.page_content = page.page_content.replace(\"Imprimerie Officielle de la République Tunisienne\", \"\")\n"
   ]
  },
  {
   "cell_type": "markdown",
   "metadata": {},
   "source": [
    "# Splitter\n"
   ]
  },
  {
   "cell_type": "code",
   "execution_count": 5,
   "metadata": {},
   "outputs": [
    {
     "data": {
      "text/plain": [
       "28127"
      ]
     },
     "execution_count": 5,
     "metadata": {},
     "output_type": "execute_result"
    }
   ],
   "source": [
    "doc_chunks = []\n",
    "text_splitter = RecursiveCharacterTextSplitter(\n",
    "    chunk_size=500,\n",
    "    separators=[\"\\nArticle\", \"\\n\\n\", \"\\n\", \".\", \"!\", \"?\", \",\", \" \", \"\"],\n",
    "    chunk_overlap=50,\n",
    ")\n",
    "chunks = text_splitter.split_documents(pages)\n",
    "len(chunks)\n"
   ]
  },
  {
   "cell_type": "markdown",
   "metadata": {},
   "source": [
    "# Vectorstores\n",
    "## for now BAAI/bge-m3 is the best embedder"
   ]
  },
  {
   "cell_type": "markdown",
   "metadata": {},
   "source": [
    "#### In the cloud (pinecone)"
   ]
  },
  {
   "cell_type": "code",
   "execution_count": null,
   "metadata": {},
   "outputs": [],
   "source": [
    "import os\n",
    "os.environ[\"PINECONE_API_KEY\"] = \"9721efa4-ff98-4bc5-9b28-93919d1657a5\"\n",
    "# embedder = HuggingFaceEmbeddings(\n",
    "#     model_name = 'dangvantuan/sentence-camembert-large'\n",
    "# )\n",
    "\n",
    "index_name = \"pfa\"\n",
    "\n",
    "#docsearch = PineconeVectorStore.from_documents(chunks, embedder, index_name=index_name)\n",
    "#docsearch = PineconeVectorStore(index_name=index_name,embedding=embedder)"
   ]
  },
  {
   "cell_type": "markdown",
   "metadata": {},
   "source": [
    "#### Locally (chroma)"
   ]
  },
  {
   "cell_type": "code",
   "execution_count": 10,
   "metadata": {},
   "outputs": [
    {
     "name": "stdout",
     "output_type": "stream",
     "text": [
      "28127\n"
     ]
    }
   ],
   "source": [
    "\n",
    "embedder = HuggingFaceEmbeddings(\n",
    "    model_name = \"BAAI/bge-m3\"\n",
    ")\n",
    "persist_directory = 'docs/chroma_bge/'\n",
    "#vectordb.delete_collection()\n",
    "# vectordb = Chroma.from_documents(\n",
    "#     documents=chunks,\n",
    "#     embedding=embedder,\n",
    "#     persist_directory=persist_directory\n",
    "# ) \n",
    "# vectordb.persist()\n",
    "vectordb = Chroma(persist_directory=\"docs/chroma_bge/\",embedding_function=embedder)\n",
    "print(vectordb._collection.count())"
   ]
  },
  {
   "cell_type": "markdown",
   "metadata": {},
   "source": [
    "# Retrieval\n",
    "### 4 methodes"
   ]
  },
  {
   "cell_type": "code",
   "execution_count": 34,
   "metadata": {},
   "outputs": [
    {
     "name": "stdout",
     "output_type": "stream",
     "text": [
      "1. deux journaux quotidiens dont un en langue arabe, avec l'indication des nantissements et des créanciers inscrits s'il y'en a. \n",
      "Le loueur est tenu, dans le même délai, soit de se faire inscrire au \n",
      "registre du commerce, soit de faire modifier son inscription personnelle avec la mention expresse de la mise en location. \n",
      "La fin de la location donnera lieu aux mêmes mesures de publicité. \n",
      "\n",
      "\n",
      "2. 176  CHAPITRE VII \n",
      "De la location de coffre-fort \n",
      "Article 698.- Le contrat de location de coffre-fort est le contrat par \n",
      "lequel une banque met à la disposition du locataire un coffre ou un \n",
      "compartiment de coffre, pour une période déterminée, moyennant une redevance. \n",
      "\n",
      "\n",
      "3. convention conclue entre les deux parties dans laquelle doivent être mentionnés notamment les lieux d’implantation de ces travaux, leur nature, leur volume, leur montant, les délais de leur exécution, le mode de paiement ainsi que toutes conditions techniques ou autres entrant dans le cadre de l’exécution desdits travaux et ce conformément à la réglementation en vigueur en matière d’établissement et d’exécution des marchés publics. \n",
      "\n",
      "\n",
      "4. 86  Article 378.- Les signatures des parties, apposées au bas des écrits \n",
      "autres que les actes authentiques doivent être, avant le dépôt, \n",
      "légalisées par l'une des autorités suivantes :  \n",
      "- les présidents des tribunaux de première instance et les juges \n",
      "cantonaux; \n",
      "- les gouverneurs et leurs délégués; \n",
      "- les présidents des municipalités; - « la conservation de la propriété foncière »\n",
      "(1). \n",
      "Si les parties ne savent ou ne peuvent signer, il leur est donné \n",
      "\n",
      "\n",
      "5. Article 1198.- Le contrat de commande est parfait par le \n",
      "consentement exprès des parties sur les clauses essentielles du contrat et par la remise du fonds ou capital au pouvoir de l’agent. Tant que cette remise n’a pas eu lieu, le contrat peut être dissous par la seule volonté de l’une des parties.  \n",
      "La tradition s’opère par le simple consentement, lorsque les fonds \n",
      "\n",
      "\n"
     ]
    }
   ],
   "source": [
    "\n",
    "query=\"comment signer un contrat de location  ?\"\n",
    "\n",
    "#needs optimization\n",
    "# rewrite_prompt = \" Fournir une meilleure requête au moteur de recherche web pour répondre à la question donnée,commençant les requêtes par '**' et en terminant les requêtes par '**'.Répondez en une seule phrase. Question :\"+query+\". Réponse (la réponse doit etre en français):\"\n",
    "# rewrited_prompt=llm.invoke(rewrite_prompt)\n",
    "# rewrited_prompt = rewrited_prompt.split('**')[1]\n",
    "\n",
    "#méthode 1 avec retriever\n",
    "retriever = vectordb.as_retriever(search_type=\"mmr\",search_kwargs={\"k\": 20})\n",
    "matched_docs = retriever.get_relevant_documents(query)\n",
    "# for i, d in enumerate(matched_docs):\n",
    "#     print(f\"\\n## Document {i}\\n\")\n",
    "#     print(d.page_content)\n",
    "\n",
    "\n",
    "#méthode 2 avec mmr\n",
    "found_docs = vectordb.max_marginal_relevance_search(query, k=5, fetch_k=50)\n",
    "for i, doc in enumerate(found_docs):\n",
    "    print(f\"{i + 1}.\", doc.page_content, \"\\n\\n\")\n",
    "\n",
    "#méthode 3 avec similarity search\n",
    "# sim_docs = vectordb.similarity_search_with_score(rewrited_prompt, k=5)  \n",
    "# for result in sim_docs:\n",
    "#     print(\"\\n\")\n",
    "#     print(result[1])\n",
    "#     print(result[0].page_content)\n",
    "\n",
    "#méthode 4 avec multiquery qui utilise le llm pour trouver le contexte\n",
    "# llm_retriever = MultiQueryRetriever.from_llm(retriever=vectordb.as_retriever(), llm=llm)\n",
    "# unique_docs = llm_retriever.get_relevant_documents(query=query)\n",
    "# print(unique_docs)\n",
    "    "
   ]
  },
  {
   "cell_type": "code",
   "execution_count": null,
   "metadata": {},
   "outputs": [],
   "source": [
    "from FlagEmbedding import FlagReranker\n",
    "reranker = FlagReranker('BAAI/bge-reranker-v2-m3', use_fp16=True) # Setting use_fp16 to True speeds up computation with a slight performance degradation\n",
    "\n",
    "score = reranker.compute_score(['query', 'passage'])\n",
    "print(score) # -5.65234375\n",
    "\n",
    "# You can map the scores into 0-1 by set \"normalize=True\", which will apply sigmoid function to the score\n",
    "score = reranker.compute_score(['query', 'passage'], normalize=True)\n",
    "print(score) # 0.003497010252573502\n",
    "\n",
    "scores = reranker.compute_score([['what is panda?', 'hi'], ['what is panda?', 'The giant panda (Ailuropoda melanoleuca), sometimes called a panda bear or simply panda, is a bear species endemic to China.']])\n",
    "print(scores) # [-8.1875, 5.26171875]\n",
    "\n",
    "# You can map the scores into 0-1 by set \"normalize=True\", which will apply sigmoid function to the score\n",
    "scores = reranker.compute_score([['what is panda?', 'hi'], ['what is panda?', 'The giant panda (Ailuropoda melanoleuca), sometimes called a panda bear or simply panda, is a bear species endemic to China.']], normalize=True)\n",
    "print(scores) # [0.00027803096387751553, 0.9948403768236574]\n",
    "\n"
   ]
  },
  {
   "cell_type": "markdown",
   "metadata": {},
   "source": [
    "# Prompt Engineering and generation"
   ]
  },
  {
   "cell_type": "code",
   "execution_count": 36,
   "metadata": {},
   "outputs": [
    {
     "name": "stdout",
     "output_type": "stream",
     "text": [
      "messages=[HumanMessage(content=\" Tu es un assistant juridique spécialisé dans la loi en Tunisie. Ta mission est de répondre aux questions des gens sur différents aspects juridiques ,en te limitant aux informations générales et en évitant les cas sensibles ou extrêmes. Si une question dépasse ton champ d'expertise ou si elle concerne un sujet délicat, tu dois informer l'utilisateur que tu ne peux pas fournir d'aide spécifique dans ce cas. Utilise les pièces suivantes du contexte pour répondre. Utilise un langage simple et accessible pour garantir que tout le monde puisse comprendre tes réponses. Gardez votre réponse brève et efficace maximum quatre ou cinq phrases.\\xa0Tu dois répondre en français.\\n Question: comment signer un contrat de location  ?.\\nContexte: deux journaux quotidiens dont un en langue arabe, avec l'indication des nantissements et des créanciers inscrits s'il y'en a. \\nLe loueur est tenu, dans le même délai, soit de se faire inscrire au \\nregistre du commerce, soit de faire modifier son inscription personnelle avec la mention expresse de la mise en location. \\nLa fin de la location donnera lieu aux mêmes mesures de publicité.\\n\\n176  CHAPITRE VII \\nDe la location de coffre-fort \\nArticle 698.- Le contrat de location de coffre-fort est le contrat par \\nlequel une banque met à la disposition du locataire un coffre ou un \\ncompartiment de coffre, pour une période déterminée, moyennant une redevance.\\n\\nconvention conclue entre les deux parties dans laquelle doivent être mentionnés notamment les lieux d’implantation de ces travaux, leur nature, leur volume, leur montant, les délais de leur exécution, le mode de paiement ainsi que toutes conditions techniques ou autres entrant dans le cadre de l’exécution desdits travaux et ce conformément à la réglementation en vigueur en matière d’établissement et d’exécution des marchés publics.\\n\\n86  Article 378.- Les signatures des parties, apposées au bas des écrits \\nautres que les actes authentiques doivent être, avant le dépôt, \\nlégalisées par l'une des autorités suivantes :  \\n- les présidents des tribunaux de première instance et les juges \\ncantonaux; \\n- les gouverneurs et leurs délégués; \\n- les présidents des municipalités; - « la conservation de la propriété foncière »\\n(1). \\nSi les parties ne savent ou ne peuvent signer, il leur est donné\\n\\nArticle 1198.- Le contrat de commande est parfait par le \\nconsentement exprès des parties sur les clauses essentielles du contrat et par la remise du fonds ou capital au pouvoir de l’agent. Tant que cette remise n’a pas eu lieu, le contrat peut être dissous par la seule volonté de l’une des parties.  \\nLa tradition s’opère par le simple consentement, lorsque les fonds.\\nRéponse:\\n\")]\n"
     ]
    }
   ],
   "source": [
    "def format_docs(docs):\n",
    "    return \"\\n\\n\".join(doc.page_content for doc in docs)\n",
    "\n",
    "final_prompt = prompt.invoke({\"context\":format_docs(found_docs), \"question\":query})\n",
    "\n",
    "print(final_prompt)"
   ]
  },
  {
   "cell_type": "code",
   "execution_count": 59,
   "metadata": {},
   "outputs": [
    {
     "data": {
      "text/plain": [
       "\" Pour devenir citoyen tunisien, il faut soumettre une déclaration sur papier timbré en deux exemplaires, avec preuve de domicile et justification de nationalité antérieure. Cette procédure est réglementée par l'article 39 de la loi tunisienne sur l'acquisition de nationalité tunisienne.\""
      ]
     },
     "execution_count": 59,
     "metadata": {},
     "output_type": "execute_result"
    }
   ],
   "source": [
    "llm.invoke(final_prompt)"
   ]
  },
  {
   "cell_type": "code",
   "execution_count": 31,
   "metadata": {},
   "outputs": [
    {
     "name": "stdout",
     "output_type": "stream",
     "text": [
      "models/gemini-1.0-pro\n",
      "models/gemini-1.0-pro-001\n",
      "models/gemini-1.0-pro-latest\n",
      "models/gemini-1.0-pro-vision-latest\n",
      "models/gemini-1.5-pro-latest\n",
      "models/gemini-pro\n",
      "models/gemini-pro-vision\n"
     ]
    }
   ],
   "source": [
    "for m in genai.list_models():\n",
    "  if 'generateContent' in m.supported_generation_methods:\n",
    "    print(m.name)\n",
    "\n",
    "model = genai.GenerativeModel('gemini-1.5-pro-latest')"
   ]
  },
  {
   "cell_type": "code",
   "execution_count": 43,
   "metadata": {},
   "outputs": [
    {
     "name": "stdout",
     "output_type": "stream",
     "text": [
      "##\n",
      " Signature d'un contrat de location en Tunisie:\n",
      "\n",
      "Pour signer un contrat de\n",
      " location en Tunisie, vous devez suivre certaines étapes pour assurer sa validité.  \n",
      "\n",
      "\n",
      "**1. Éléments essentiels :**  Assurez-vous que le contrat inclut les informations clés comme les noms des parties, la description du bien\n",
      ", le montant du loyer, la durée de la location et les responsabilités de chaque partie.\n",
      "\n",
      "**2. Légalisation des signatures :**  \n",
      "Les signatures du bailleur et du locataire doivent être légalisées par une autorité compétente telle qu'un président de tribunal, un gouverneur, un délégué ou un président de municipalité. \n",
      "\n",
      "**3. Enregistrement (fac\n",
      "ultatif) :**  Bien que non obligatoire, l'enregistrement du contrat au bureau de la conservation de la propriété foncière peut offrir une protection supplémentaire en cas de litige.\n",
      "\n",
      "**4. Publicité :**  Le ba\n",
      "illeur doit déclarer la location auprès du registre du commerce ou modifier son inscription personnelle pour mentionner la mise en location du bien. \n",
      "\n",
      "**Conseils:**  Il est recommandé de consulter un professionnel du droit pour vous assurer que le contrat est conforme à la loi et protège vos droits. \n",
      "\n",
      "\n"
     ]
    }
   ],
   "source": [
    "def to_markdown(text):\n",
    "  text = text.replace('•', '  *')\n",
    "  return Markdown(textwrap.indent(text, '> ', predicate=lambda _: True))\n",
    "\n",
    "\n",
    "response = model.generate_content(final_prompt.messages[0].content,stream=True)\n",
    "for chunk in response:\n",
    "  print(chunk.text)\n",
    "\n",
    "\n",
    "  "
   ]
  },
  {
   "cell_type": "code",
   "execution_count": 54,
   "metadata": {},
   "outputs": [
    {
     "data": {
      "text/plain": [
       "[category: HARM_CATEGORY_SEXUALLY_EXPLICIT\n",
       "probability: NEGLIGIBLE\n",
       ", category: HARM_CATEGORY_HATE_SPEECH\n",
       "probability: NEGLIGIBLE\n",
       ", category: HARM_CATEGORY_HARASSMENT\n",
       "probability: NEGLIGIBLE\n",
       ", category: HARM_CATEGORY_DANGEROUS_CONTENT\n",
       "probability: NEGLIGIBLE\n",
       "]"
      ]
     },
     "execution_count": 54,
     "metadata": {},
     "output_type": "execute_result"
    }
   ],
   "source": [
    "response._result.candidates[0].safety_ratings"
   ]
  }
 ],
 "metadata": {
  "kernelspec": {
   "display_name": "Python 3",
   "language": "python",
   "name": "python3"
  },
  "language_info": {
   "codemirror_mode": {
    "name": "ipython",
    "version": 3
   },
   "file_extension": ".py",
   "mimetype": "text/x-python",
   "name": "python",
   "nbconvert_exporter": "python",
   "pygments_lexer": "ipython3",
   "version": "3.12.0"
  }
 },
 "nbformat": 4,
 "nbformat_minor": 2
}
