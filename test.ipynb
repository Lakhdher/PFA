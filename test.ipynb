{
 "cells": [
  {
   "cell_type": "code",
   "execution_count": 14,
   "metadata": {},
   "outputs": [],
   "source": [
    "from langchain_community.document_loaders import PyPDFLoader\n",
    "from langchain_text_splitters import RecursiveCharacterTextSplitter\n",
    "from langchain.docstore.document import Document\n",
    "from langchain_community.embeddings import OllamaEmbeddings\n",
    "from langchain.vectorstores.faiss import FAISS\n",
    "from langchain_community.embeddings import HuggingFaceHubEmbeddings\n",
    "from langchain import hub\n",
    "from langchain.vectorstores import Chroma\n",
    "import pickle"
   ]
  },
  {
   "cell_type": "markdown",
   "metadata": {},
   "source": [
    "Document loader"
   ]
  },
  {
   "cell_type": "code",
   "execution_count": 80,
   "metadata": {},
   "outputs": [
    {
     "data": {
      "text/plain": [
       "19"
      ]
     },
     "execution_count": 80,
     "metadata": {},
     "output_type": "execute_result"
    }
   ],
   "source": [
    "pages = PyPDFLoader(\"src/Constitution_de_la_republique_tunisiennefr.pdf\").load_and_split()\n",
    "len(pages)"
   ]
  },
  {
   "cell_type": "markdown",
   "metadata": {},
   "source": [
    "Splitter\n"
   ]
  },
  {
   "cell_type": "code",
   "execution_count": 84,
   "metadata": {},
   "outputs": [
    {
     "data": {
      "text/plain": [
       "142"
      ]
     },
     "execution_count": 84,
     "metadata": {},
     "output_type": "execute_result"
    }
   ],
   "source": [
    "doc_chunks = []\n",
    "text_splitter = RecursiveCharacterTextSplitter(\n",
    "    chunk_size=500,\n",
    "    separators=[\"\\nArticle\", \"\\n\\n\", \"\\n\", \".\", \"!\", \"?\", \",\", \" \", \"\"],\n",
    "    chunk_overlap=50,\n",
    ")\n",
    "chunks = text_splitter.split_documents(pages)\n",
    "# for i, chunk in enumerate(chunks):\n",
    "#     doc = Document(\n",
    "#         page_content=chunk, metadata={\"page\": doc.metadata[\"page\"], \"chunk\": i}\n",
    "#     )\n",
    "#     doc.metadata[\"source\"] = f\"{doc.metadata['page']}-{doc.metadata['chunk']}\"\n",
    "#     doc.metadata[\"filename\"] = \"Constitution_de_la_republique_tunisienne\" \n",
    "#     doc_chunks.append(doc)\n",
    "len(chunks)"
   ]
  },
  {
   "cell_type": "markdown",
   "metadata": {},
   "source": [
    "Vectorstores"
   ]
  },
  {
   "cell_type": "code",
   "execution_count": 4,
   "metadata": {},
   "outputs": [],
   "source": [
    "# model =  SentenceTransformer(\"dangvantuan/sentence-camembert-large\")\n",
    "\n",
    "# sentences = [\"Un avion est en train de décoller.\",\n",
    "#           \"Un homme joue d'une grande flûte.\",\n",
    "#           \"Un homme étale du fromage râpé sur une pizza.\",\n",
    "#           \"Une personne jette un chat au plafond.\",\n",
    "#           \"Une personne est en train de plier un morceau de papier.\",\n",
    "#           ]\n",
    "\n",
    "# embeddings = model.encode(sentences)"
   ]
  },
  {
   "cell_type": "code",
   "execution_count": 47,
   "metadata": {},
   "outputs": [
    {
     "name": "stdout",
     "output_type": "stream",
     "text": [
      "Requirement already satisfied: InstructorEmbedding in c:\\users\\mehdi\\appdata\\local\\programs\\python\\python312\\lib\\site-packages (1.0.1)\n"
     ]
    }
   ],
   "source": [
    "# embeddings = HuggingFaceEmbeddings(model_name=\"sentence-transformers/dangvantuan/sentence-camembert-large\")\n",
    "!pip install InstructorEmbedding\n",
    "from sentence_transformers import SentenceTransformer\n",
    "from langchain.embeddings.huggingface import HuggingFaceInstructEmbeddings"
   ]
  },
  {
   "cell_type": "code",
   "execution_count": 85,
   "metadata": {},
   "outputs": [
    {
     "name": "stdout",
     "output_type": "stream",
     "text": [
      "519\n"
     ]
    }
   ],
   "source": [
    "from langchain.embeddings.sentence_transformer import SentenceTransformerEmbeddings\n",
    "\n",
    "model = SentenceTransformerEmbeddings(model_name=\"cointegrated/rubert-tiny2\")\n",
    "\n",
    "\n",
    "persist_directory = 'docs/chroma/'\n",
    "vectordb = Chroma.from_documents(\n",
    "    documents=chunks,\n",
    "    embedding=model,\n",
    "    persist_directory=persist_directory\n",
    ") \n",
    "\n",
    "vectordb.persist()\n",
    "print(vectordb._collection.count())"
   ]
  },
  {
   "cell_type": "code",
   "execution_count": null,
   "metadata": {},
   "outputs": [],
   "source": [
    "index.save_local(\"faiss_index\")\n",
    "# loaded_index = FAISS.load_local(\"faiss_index\", embeddings)"
   ]
  },
  {
   "cell_type": "markdown",
   "metadata": {},
   "source": [
    "Retrieval\n"
   ]
  },
  {
   "cell_type": "code",
   "execution_count": 86,
   "metadata": {},
   "outputs": [
    {
     "name": "stdout",
     "output_type": "stream",
     "text": [
      "\n",
      "\n",
      "0.35481518507003784\n",
      "suite d’une procédure lui offrant les ga ranties indispensables à sa défense.\n",
      "\n",
      "\n",
      "0.35481518507003784\n",
      "suite d’une procédure lui offrant les ga ranties indispensables à sa défense.\n",
      "\n",
      "\n",
      "0.35481518507003784\n",
      "suite d’une procédure lui offrant les ga ranties indispensables à sa défense.\n"
     ]
    }
   ],
   "source": [
    "# retriever = index.as_retriever(search_kwargs={\"k\": 3})\n",
    "# retriever.invoke(\"quelle est la réligion de la tunisie?\")\n",
    "query=\"quel est le couleur du drapeau de la tunisie?\"\n",
    "sim_docs = vectordb.similarity_search_with_score(query, k=3)  \n",
    "for result in sim_docs:\n",
    "    print(\"\\n\")\n",
    "    print(result[1])\n",
    "    print(result[0].page_content)"
   ]
  },
  {
   "cell_type": "code",
   "execution_count": 30,
   "metadata": {},
   "outputs": [
    {
     "data": {
      "text/plain": [
       "\"\\nI'm just an AI, I don't have personal knowledge or experience of specific laws and regulations of any country, including Tunisia. However, I can provide you with some general information about the legal system in Tunisia and direct you to reliable sources for more detailed information.\\n\\nTunisia is a civil law country, which means that the legal system is based on written codes and laws rather than judicial decisions and customary law. The main source of Tunisian law is the Code of Civil Law (Code de la Justice tunisienne), which was adopted in 1957 and has undergone several amendments since then.\\n\\nSome key aspects of Tunisian society and laws include:\\n\\n1. Constitutional monarchy: Tunisia is a constitutional monarchy, with the President serving as the head of state and the Prime Minister as the head of government.\\n2. Islamic law: Tunisia has an Islamic majority population, and Islamic law (Shariah) plays a significant role in the country's legal system. However, the country also has a secular legal code that applies to non-Muslims.\\n3. Family law: Tunisia has a comprehensive family law code that regulates marriage, divorce, inheritance, and child custody. The code is based on Islamic principles but also takes into account the country's modern legal traditions.\\n4. Labor law: Tunisia has a detailed labor law code that provides for workers' rights, including minimum wage requirements, working hours, and social security benefits.\\n5. Human rights: Tunisia has a strong tradition of respecting human rights, and the country has ratified several major international human rights treaties.\\n\\nIf you are looking for more detailed information on Tunisian laws, I recommend consulting reputable legal sources such as the Tunisian government's website, the Constitutional Court of Tunisia, or academic research centers specializing in Tunisian law.\""
      ]
     },
     "execution_count": 30,
     "metadata": {},
     "output_type": "execute_result"
    }
   ],
   "source": [
    "from langchain_community.llms import Ollama\n",
    "\n",
    "llm = Ollama(model=\"llama2\")\n",
    "\n",
    "llm.invoke(\"do you know tunisian societies laws?\")"
   ]
  },
  {
   "cell_type": "code",
   "execution_count": null,
   "metadata": {},
   "outputs": [
    {
     "name": "stdout",
     "output_type": "stream",
     "text": [
      "S\n",
      "ure\n",
      "!\n",
      " Here\n",
      "'\n",
      "s\n",
      " one\n",
      ":\n",
      "\n",
      "\n",
      "\n",
      "\n",
      "Why\n",
      " don\n",
      "'\n",
      "t\n",
      " scient\n",
      "ists\n",
      " trust\n",
      " atoms\n",
      "?\n",
      "\n",
      "\n",
      "B\n",
      "ecause\n",
      " they\n",
      " make\n",
      " up\n",
      " everything\n",
      "!\n",
      "\n",
      "\n",
      "\n",
      "\n",
      "I\n",
      " hope\n",
      " that\n",
      " brought\n",
      " a\n",
      " smile\n",
      " to\n",
      " your\n",
      " face\n",
      "!\n",
      " Do\n",
      " you\n",
      " have\n",
      " any\n",
      " specific\n",
      " topic\n",
      " or\n",
      " theme\n",
      " in\n",
      " mind\n",
      " for\n",
      " a\n",
      " jo\n",
      "ke\n",
      ",\n",
      " and\n",
      " I\n",
      " can\n",
      " try\n",
      " to\n",
      " come\n",
      " up\n",
      " with\n",
      " something\n",
      " tail\n",
      "ored\n",
      " to\n",
      " your\n",
      " prefer\n",
      "ences\n",
      "?\n",
      "\n"
     ]
    }
   ],
   "source": [
    "query = \"Tell me a joke\"\n",
    "\n",
    "for chunks in llm.stream(query):\n",
    "    print(chunks)"
   ]
  },
  {
   "cell_type": "code",
   "execution_count": null,
   "metadata": {},
   "outputs": [],
   "source": []
  }
 ],
 "metadata": {
  "kernelspec": {
   "display_name": "Python 3",
   "language": "python",
   "name": "python3"
  },
  "language_info": {
   "codemirror_mode": {
    "name": "ipython",
    "version": 3
   },
   "file_extension": ".py",
   "mimetype": "text/x-python",
   "name": "python",
   "nbconvert_exporter": "python",
   "pygments_lexer": "ipython3",
   "version": "3.12.0"
  }
 },
 "nbformat": 4,
 "nbformat_minor": 2
}
