{
 "cells": [
  {
   "cell_type": "code",
   "execution_count": 1,
   "metadata": {},
   "outputs": [],
   "source": [
    "from langchain_community.document_loaders import PyPDFLoader\n",
    "from langchain_text_splitters import RecursiveCharacterTextSplitter\n",
    "from langchain.docstore.document import Document\n",
    "from langchain_community.embeddings import OllamaEmbeddings\n",
    "from langchain.vectorstores.faiss import FAISS\n",
    "from langchain_community.embeddings import HuggingFaceHubEmbeddings\n",
    "from langchain import hub\n",
    "from langchain.vectorstores import Chroma\n",
    "from langchain_pinecone import PineconeVectorStore\n",
    "from langchain_community.embeddings import HuggingFaceEmbeddings\n",
    "import pickle"
   ]
  },
  {
   "cell_type": "markdown",
   "metadata": {},
   "source": [
    "Document loader"
   ]
  },
  {
   "cell_type": "code",
   "execution_count": 95,
   "metadata": {},
   "outputs": [],
   "source": [
    "import glob\n",
    "\n",
    "pdf_files = glob.glob(\"src/*.pdf\")\n",
    "pages = []\n",
    "\n",
    "for pdf_file in pdf_files:\n",
    "    pages.extend(PyPDFLoader(pdf_file).load_and_split())\n",
    "\n",
    "for page in pages:\n",
    "    page.page_content = page.page_content.replace(\"Imprimerie Officielle de la République Tunisienne\", \"\")\n"
   ]
  },
  {
   "cell_type": "markdown",
   "metadata": {},
   "source": [
    "Splitter\n"
   ]
  },
  {
   "cell_type": "code",
   "execution_count": 96,
   "metadata": {},
   "outputs": [
    {
     "data": {
      "text/plain": [
       "28127"
      ]
     },
     "execution_count": 96,
     "metadata": {},
     "output_type": "execute_result"
    }
   ],
   "source": [
    "doc_chunks = []\n",
    "text_splitter = RecursiveCharacterTextSplitter(\n",
    "    chunk_size=500,\n",
    "    separators=[\"\\nArticle\", \"\\n\\n\", \"\\n\", \".\", \"!\", \"?\", \",\", \" \", \"\"],\n",
    "    chunk_overlap=50,\n",
    ")\n",
    "chunks = text_splitter.split_documents(pages)\n",
    "len(chunks)\n"
   ]
  },
  {
   "cell_type": "markdown",
   "metadata": {},
   "source": [
    "Vectorstores"
   ]
  },
  {
   "cell_type": "code",
   "execution_count": 13,
   "metadata": {},
   "outputs": [
    {
     "name": "stderr",
     "output_type": "stream",
     "text": [
      "No sentence-transformers model found with name C:\\Users\\mehdi/.cache\\torch\\sentence_transformers\\EIStakovskii_LaBSE-fr-de. Creating a new one with MEAN pooling.\n"
     ]
    }
   ],
   "source": [
    "import os\n",
    "os.environ[\"PINECONE_API_KEY\"] = \"9721efa4-ff98-4bc5-9b28-93919d1657a5\"\n",
    "embedder = HuggingFaceEmbeddings(\n",
    "    model_name = \"EIStakovskii/LaBSE-fr-de\"\n",
    ")\n",
    "\n",
    "index_name = \"pfa\"\n",
    "\n",
    "#docsearch = PineconeVectorStore.from_documents(chunks, embedder, index_name=index_name)"
   ]
  },
  {
   "cell_type": "markdown",
   "metadata": {},
   "source": [
    "# Retrieval\n",
    "## check retriever"
   ]
  },
  {
   "cell_type": "code",
   "execution_count": 17,
   "metadata": {},
   "outputs": [
    {
     "name": "stdout",
     "output_type": "stream",
     "text": [
      "1. données à caractère personnel. \n",
      "Chapitre IV \n",
      "Du Conseil de suivi d’utilisation de l'identifiant unique citoyen \n",
      "\n",
      "\n",
      "2. Article 3.- L’identifiant unique citoyen est attribué à toute \n",
      "personne physique : \n",
      "- ayant la nationalité tunisienne, inscrite sur le registre des \n",
      "naissances de l’état civil, \n",
      "- de nationalité tunisienne née dans un pays étranger, inscrite \n",
      "auprès de la mission diplomatique ou consulaire accréditée dans ce \n",
      "pays, \n",
      "- ayant acquis la nationalité tunisienne par voie de naturalisation. \n",
      "\n",
      "\n",
      "3. Il est également interdit d'attribuer le même identifiant à plusieurs \n",
      "personnes ou d'attribuer à une personne plusieurs identifiants. \n",
      "\n",
      "\n",
      "4. précisant l'origine des droits, l'identité du déclarant, les limites de l'immeuble et les charges le grevant. En cas de copropriété, la déclaration peut émaner d'un seul copropriétaire. \n",
      "\n",
      "\n",
      "5. Article 8.-  Le contenu de l’identifiant unique citoyen ainsi que ses \n",
      "spécifications techniques et les règles régissant la tenue et la gestion \n",
      "\n",
      "\n"
     ]
    }
   ],
   "source": [
    "\n",
    "query=\"que'est ce que  l'identifiant unique citoyen ?\"\n",
    "docsearch = PineconeVectorStore(index_name=index_name,embedding=embedder)\n",
    "#méthode 1 avec retriever\n",
    "# retriever = docsearch.as_retriever(search_type=\"mmr\")\n",
    "# matched_docs = retriever.get_relevant_documents(query)\n",
    "# for i, d in enumerate(matched_docs):\n",
    "#     print(f\"\\n## Document {i}\\n\")\n",
    "#     print(d.page_content)\n",
    "\n",
    "#méthode 2 avec mmr\n",
    "found_docs = docsearch.max_marginal_relevance_search(query, k=5, fetch_k=100)\n",
    "for i, doc in enumerate(found_docs):\n",
    "    print(f\"{i + 1}.\", doc.page_content, \"\\n\\n\")\n",
    "\n",
    "#méthode 3 avec similarity search\n",
    "# sim_docs = docsearch.similarity_search_with_score(query, k=3)  \n",
    "# for result in sim_docs:\n",
    "#     print(\"\\n\")\n",
    "#     print(result[1])\n",
    "#     print(result[0].page_content)"
   ]
  },
  {
   "cell_type": "code",
   "execution_count": 21,
   "metadata": {},
   "outputs": [],
   "source": [
    "def format_docs(docs):\n",
    "    return \"\\n\\n\".join(doc.page_content for doc in docs)\n",
    "\n",
    "\n",
    "\n",
    "new_query= \"contexte :  \"+ format_docs(found_docs)+ \"question : \"+ query +\" on parle toujours en tunisie et répondez en français\"\n",
    "\n"
   ]
  },
  {
   "cell_type": "code",
   "execution_count": 30,
   "metadata": {},
   "outputs": [
    {
     "name": "stdout",
     "output_type": "stream",
     "text": [
      "messages=[HumanMessage(content=\"You are an assistant for question-answering tasks. Use the following pieces of retrieved context to answer the question. If you don't know the answer, just say that you don't know. Use three sentences maximum and keep the answer concise.\\nQuestion: que'est ce que  l'identifiant unique citoyen ? \\nContext: données à caractère personnel. \\nChapitre IV \\nDu Conseil de suivi d’utilisation de l'identifiant unique citoyen\\n\\nArticle 3.- L’identifiant unique citoyen est attribué à toute \\npersonne physique : \\n- ayant la nationalité tunisienne, inscrite sur le registre des \\nnaissances de l’état civil, \\n- de nationalité tunisienne née dans un pays étranger, inscrite \\nauprès de la mission diplomatique ou consulaire accréditée dans ce \\npays, \\n- ayant acquis la nationalité tunisienne par voie de naturalisation.\\n\\nIl est également interdit d'attribuer le même identifiant à plusieurs \\npersonnes ou d'attribuer à une personne plusieurs identifiants.\\n\\nprécisant l'origine des droits, l'identité du déclarant, les limites de l'immeuble et les charges le grevant. En cas de copropriété, la déclaration peut émaner d'un seul copropriétaire.\\n\\nArticle 8.-  Le contenu de l’identifiant unique citoyen ainsi que ses \\nspécifications techniques et les règles régissant la tenue et la gestion \\nAnswer:\")]\n"
     ]
    }
   ],
   "source": [
    "from langchain import hub\n",
    "prompt = hub.pull(\"rlm/rag-prompt\")\n",
    "prompt = prompt.invoke({\"context\":format_docs(found_docs), \"question\":query})\n",
    "print(prompt)"
   ]
  },
  {
   "cell_type": "code",
   "execution_count": 31,
   "metadata": {},
   "outputs": [],
   "source": [
    "from langchain_community.llms import Ollama\n",
    "\n",
    "llm = Ollama(model=\"llama2\")\n",
    "\n",
    "llm.invoke(prompt)"
   ]
  }
 ],
 "metadata": {
  "kernelspec": {
   "display_name": "Python 3",
   "language": "python",
   "name": "python3"
  },
  "language_info": {
   "codemirror_mode": {
    "name": "ipython",
    "version": 3
   },
   "file_extension": ".py",
   "mimetype": "text/x-python",
   "name": "python",
   "nbconvert_exporter": "python",
   "pygments_lexer": "ipython3",
   "version": "3.12.0"
  }
 },
 "nbformat": 4,
 "nbformat_minor": 2
}
